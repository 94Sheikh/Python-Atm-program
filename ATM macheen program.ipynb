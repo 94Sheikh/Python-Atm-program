{
 "cells": [
  {
   "cell_type": "markdown",
   "id": "af904331",
   "metadata": {},
   "source": [
    "# ATM MACHEEN PROGRAM"
   ]
  },
  {
   "cell_type": "code",
   "execution_count": 5,
   "id": "3de78155",
   "metadata": {},
   "outputs": [
    {
     "name": "stdout",
     "output_type": "stream",
     "text": [
      "What action you want to perform eg: 'Withdrawl Mony, Checking Balance, Changing Pin, Deposite Amount' Checking Balance\n",
      "Your Balance is 3000\n",
      "Do you want to take another action {yes/No}no\n",
      "Thanks For Using XYZ Bank ATM!\n"
     ]
    }
   ],
   "source": [
    "#user balance & pin code\n",
    "balance = 3000\n",
    "PIN = \"1256#\"\n",
    "\n",
    "#user cheking their balance\n",
    "\n",
    "def check_bal(balance):\n",
    "    print(f\"Your Balance is {balance}\")\n",
    "    \n",
    "    \n",
    "# user Deposite amount\n",
    "\n",
    "def deposite_amount(deposite_amount):\n",
    "    global balance\n",
    "    deposite_amount = int(input(\"Deposite your amount\"))\n",
    "    balance += deposite_amount\n",
    "    print(f\"You Deposite {deposite_amount}, your new balance is {balance}\")\n",
    "    \n",
    "#user withdrawl amount\n",
    "\n",
    "def withdrawl_amount(amount):\n",
    "    global balance\n",
    "    if amount > balance:\n",
    "        print(\"Your balance is insufficiant\")\n",
    "    else:\n",
    "        balance -= amount\n",
    "        print(f\"Your withdrawl is {amount}, your avalabel balance {balance}!\")\n",
    "        \n",
    "# user channging pin\n",
    "\n",
    "def changing_pin():\n",
    "    global PIN\n",
    "    new_pin = int(input(\"Enter Your New Pin\"))\n",
    "    confirm_pin = int(input(\"Confirm New Pin\"))\n",
    "    \n",
    "    if new_pin == confirm_pin:\n",
    "        PIN = new_pin\n",
    "        print(\"Your Pin code hasbeen changed\")\n",
    "               \n",
    "    else:\n",
    "        print(\"Confirm Your pin code\")\n",
    "        \n",
    "# Main program loop\n",
    "\n",
    "while True:\n",
    "        # Asking the user what action they want to perform\n",
    "\n",
    "        action = input(\"What action you want to perform eg: 'Withdrawl Mony, Checking Balance, Changing Pin, Deposite Amount' \")\n",
    "\n",
    "        if action == \"Withdrawl Mony\":\n",
    "            amount = int(input(\"Enter Amount\"))\n",
    "            withdrawl_amount(amount)\n",
    "\n",
    "        elif action == \"Checking Balance\":\n",
    "            check_bal(balance)\n",
    "\n",
    "        elif action == \"Changing Pin\":\n",
    "            changing_pin()\n",
    "            \n",
    "        elif action == \"Deposite Amount\":\n",
    "            deposite_amount(deposite_amount)\n",
    "            \n",
    "        else:\n",
    "            print(\"Invalid Action\")\n",
    "\n",
    "        # Asking User for another action\n",
    "\n",
    "        another_action = input(\"Do you want to take another action {yes/No}\")\n",
    "\n",
    "        if another_action != \"Yes\":\n",
    "            print(\"Thanks For Using XYZ Bank ATM!\")\n",
    "            break\n"
   ]
  },
  {
   "cell_type": "code",
   "execution_count": null,
   "id": "5c7be3ba",
   "metadata": {},
   "outputs": [],
   "source": []
  },
  {
   "cell_type": "code",
   "execution_count": null,
   "id": "f2350e1b",
   "metadata": {},
   "outputs": [],
   "source": []
  }
 ],
 "metadata": {
  "kernelspec": {
   "display_name": "Python 3 (ipykernel)",
   "language": "python",
   "name": "python3"
  },
  "language_info": {
   "codemirror_mode": {
    "name": "ipython",
    "version": 3
   },
   "file_extension": ".py",
   "mimetype": "text/x-python",
   "name": "python",
   "nbconvert_exporter": "python",
   "pygments_lexer": "ipython3",
   "version": "3.9.13"
  }
 },
 "nbformat": 4,
 "nbformat_minor": 5
}
